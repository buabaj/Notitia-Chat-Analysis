{
  "nbformat": 4,
  "nbformat_minor": 0,
  "metadata": {
    "colab": {
      "name": "whatsapp-sentiment.ipynb",
      "provenance": [],
      "collapsed_sections": [],
      "include_colab_link": true
    },
    "kernelspec": {
      "name": "python3",
      "display_name": "Python 3"
    }
  },
  "cells": [
    {
      "cell_type": "markdown",
      "metadata": {
        "id": "view-in-github",
        "colab_type": "text"
      },
      "source": [
        "<a href=\"https://colab.research.google.com/github/buabaj/Notitia-Chat-Analysis/blob/master/whatsapp_sentiment.ipynb\" target=\"_parent\"><img src=\"https://colab.research.google.com/assets/colab-badge.svg\" alt=\"Open In Colab\"/></a>"
      ]
    },
    {
      "cell_type": "code",
      "metadata": {
        "id": "j2_2fH_-tzs-",
        "colab_type": "code",
        "colab": {}
      },
      "source": [
        "import pandas as pd\n",
        "import numpy as np\n",
        "import re\n",
        "import math\n",
        "from collections import Counter\n",
        "from datetime import datetime\n",
        "\n",
        "import warnings\n",
        "warnings.filterwarnings('ignore')\n",
        "pd.set_option(\"display.max_rows\", 100)\n",
        "pd.set_option(\"display.max_columns\", 100)\n",
        "pd.set_option(\"display.max_colwidth\", 100)"
      ],
      "execution_count": null,
      "outputs": []
    },
    {
      "cell_type": "code",
      "metadata": {
        "id": "XaI8qb6HuEpI",
        "colab_type": "code",
        "colab": {
          "base_uri": "https://localhost:8080/",
          "height": 257
        },
        "outputId": "bfc16bd0-7a3d-4c21-fd6c-9b0816efe37a"
      },
      "source": [
        "import matplotlib.pyplot as plt\n",
        "%matplotlib inline\n",
        "from matplotlib import rcParams\n",
        "import matplotlib.ticker as mtick\n",
        "rcParams['figure.figsize'] = (8, 3)\n",
        "rcParams['figure.dpi'] = 150\n",
        "rcParams['lines.linewidth'] = 2\n",
        "\n",
        "import seaborn as sns\n",
        "sns.set_style(\"darkgrid\")\n",
        "\n",
        "import plotly.express as px\n",
        "import plotly.graph_objects as go\n",
        "\n",
        "!pip install heatmapz\n",
        "\n",
        "\n",
        "from heatmap import heatmap, corrplot # pip install heatmapz\n",
        "\n",
        "from wordcloud import WordCloud\n",
        "\n",
        "import ipywidgets as widgets\n",
        "from IPython.display import display\n",
        "\n",
        "from PIL import Image"
      ],
      "execution_count": null,
      "outputs": [
        {
          "output_type": "stream",
          "text": [
            "Requirement already satisfied: heatmapz in /usr/local/lib/python3.6/dist-packages (0.0.4)\n",
            "Requirement already satisfied: seaborn in /usr/local/lib/python3.6/dist-packages (from heatmapz) (0.10.1)\n",
            "Requirement already satisfied: matplotlib>=3.0.3 in /usr/local/lib/python3.6/dist-packages (from heatmapz) (3.2.2)\n",
            "Requirement already satisfied: pandas in /usr/local/lib/python3.6/dist-packages (from heatmapz) (1.0.5)\n",
            "Requirement already satisfied: scipy>=1.0.1 in /usr/local/lib/python3.6/dist-packages (from seaborn->heatmapz) (1.4.1)\n",
            "Requirement already satisfied: numpy>=1.13.3 in /usr/local/lib/python3.6/dist-packages (from seaborn->heatmapz) (1.18.5)\n",
            "Requirement already satisfied: cycler>=0.10 in /usr/local/lib/python3.6/dist-packages (from matplotlib>=3.0.3->heatmapz) (0.10.0)\n",
            "Requirement already satisfied: python-dateutil>=2.1 in /usr/local/lib/python3.6/dist-packages (from matplotlib>=3.0.3->heatmapz) (2.8.1)\n",
            "Requirement already satisfied: pyparsing!=2.0.4,!=2.1.2,!=2.1.6,>=2.0.1 in /usr/local/lib/python3.6/dist-packages (from matplotlib>=3.0.3->heatmapz) (2.4.7)\n",
            "Requirement already satisfied: kiwisolver>=1.0.1 in /usr/local/lib/python3.6/dist-packages (from matplotlib>=3.0.3->heatmapz) (1.2.0)\n",
            "Requirement already satisfied: pytz>=2017.2 in /usr/local/lib/python3.6/dist-packages (from pandas->heatmapz) (2018.9)\n",
            "Requirement already satisfied: six in /usr/local/lib/python3.6/dist-packages (from cycler>=0.10->matplotlib>=3.0.3->heatmapz) (1.15.0)\n"
          ],
          "name": "stdout"
        }
      ]
    },
    {
      "cell_type": "code",
      "metadata": {
        "id": "E1CBBRPq-uO7",
        "colab_type": "code",
        "colab": {
          "base_uri": "https://localhost:8080/",
          "height": 201
        },
        "outputId": "7419151d-0abf-47bc-8aee-087b5becf0ac"
      },
      "source": [
        "!pip install text_preprocessing\n",
        "from helper import *\n",
        "from text_preprocessing import *"
      ],
      "execution_count": null,
      "outputs": [
        {
          "output_type": "stream",
          "text": [
            "Requirement already satisfied: text_preprocessing in /usr/local/lib/python3.6/dist-packages (0.0.8)\n",
            "Requirement already satisfied: contractions in /usr/local/lib/python3.6/dist-packages (from text_preprocessing) (0.0.25)\n",
            "Requirement already satisfied: pyspellchecker in /usr/local/lib/python3.6/dist-packages (from text_preprocessing) (0.5.5)\n",
            "Requirement already satisfied: names-dataset in /usr/local/lib/python3.6/dist-packages (from text_preprocessing) (1.9.1)\n",
            "Requirement already satisfied: unittest-xml-reporting in /usr/local/lib/python3.6/dist-packages (from text_preprocessing) (3.0.4)\n",
            "Requirement already satisfied: nltk in /usr/local/lib/python3.6/dist-packages (from text_preprocessing) (3.2.5)\n",
            "Requirement already satisfied: textsearch in /usr/local/lib/python3.6/dist-packages (from contractions->text_preprocessing) (0.0.17)\n",
            "Requirement already satisfied: six in /usr/local/lib/python3.6/dist-packages (from nltk->text_preprocessing) (1.15.0)\n",
            "Requirement already satisfied: pyahocorasick in /usr/local/lib/python3.6/dist-packages (from textsearch->contractions->text_preprocessing) (1.4.0)\n",
            "Requirement already satisfied: Unidecode in /usr/local/lib/python3.6/dist-packages (from textsearch->contractions->text_preprocessing) (1.1.1)\n"
          ],
          "name": "stdout"
        }
      ]
    },
    {
      "cell_type": "code",
      "metadata": {
        "id": "Itrn4pn5D6H1",
        "colab_type": "code",
        "colab": {}
      },
      "source": [
        "def startsWithDateAndTime(s):\n",
        "    pattern = '^\\[([0-9]+)([\\/-])([0-9]+)([\\/-])([0-9]+)[,]? ([0-9]+):([0-9][0-9]):([0-9][0-9])[ ]?(AM|PM|am|pm)?\\]'\n",
        "    result = re.match(pattern, s)\n",
        "    if result:\n",
        "        return True\n",
        "    return False"
      ],
      "execution_count": null,
      "outputs": []
    },
    {
      "cell_type": "code",
      "metadata": {
        "id": "4XLHccH3D9qp",
        "colab_type": "code",
        "colab": {
          "base_uri": "https://localhost:8080/",
          "height": 35
        },
        "outputId": "eca26942-38fe-4c22-a070-165a222f85c2"
      },
      "source": [
        "startsWithDateAndTime('[12/02/2020, 7:02:58 PM] ACQU BENJAMIN: Me?')\n"
      ],
      "execution_count": null,
      "outputs": [
        {
          "output_type": "execute_result",
          "data": {
            "text/plain": [
              "True"
            ]
          },
          "metadata": {
            "tags": []
          },
          "execution_count": 90
        }
      ]
    },
    {
      "cell_type": "code",
      "metadata": {
        "id": "B55NC8QaECFA",
        "colab_type": "code",
        "colab": {}
      },
      "source": [
        "def FindAuthor(s):\n",
        "    patterns = [\n",
        "        '([\\w]+):',                        # First Name\n",
        "        '([\\w]+[\\s]+[\\w]+):',              # First Name + Last Name\n",
        "        '([\\w]+[\\s]+[\\w]+[\\s]+[\\w]+):',    # First Name + Middle Name + Last Name\n",
        "        '([+]\\d{2} \\d{3} \\d{3}):',         # Mobile Number (Ghana)\n",
        "        '([\\w]+)[\\u263a-\\U0001f999]+:',    # Name and Emoji              \n",
        "    ]\n",
        "    pattern = '^' + '|'.join(patterns)\n",
        "    result = re.match(pattern, s)\n",
        "    if result:\n",
        "        return True\n",
        "    return False"
      ],
      "execution_count": null,
      "outputs": []
    },
    {
      "cell_type": "code",
      "metadata": {
        "id": "OtZSa8OEEFec",
        "colab_type": "code",
        "colab": {}
      },
      "source": [
        "def getDataPoint(line):   \n",
        "    splitLine = line.split('] ')\n",
        "    dateTime = splitLine[0]\n",
        "    if ',' in dateTime:\n",
        "      date, time = dateTime.split(',') \n",
        "    else:\n",
        "      date, time = dateTime.split(' ') \n",
        "    message = ' '.join(splitLine[1:])\n",
        "    if FindAuthor(message): \n",
        "        splitMessage = message.split(': ') \n",
        "        author = splitMessage[0] \n",
        "        message = ' '.join(splitMessage[1:])\n",
        "    else:\n",
        "        author = None\n",
        "    return date, time, author, message"
      ],
      "execution_count": null,
      "outputs": []
    },
    {
      "cell_type": "code",
      "metadata": {
        "id": "irRJ0tP1_DM8",
        "colab_type": "code",
        "colab": {}
      },
      "source": [
        "parsedData = [] # List to keep track of data so it can be used by a Pandas dataframe\n",
        "conversationPath = '_chat.txt' \n",
        "with open(conversationPath, encoding=\"utf-8\") as fp:\n",
        "    fp.readline() # Skipping first line of the file because contains information related to something about end-to-end encryption\n",
        "    fp.readline()\n",
        "    fp.readline()\n",
        "    messageBuffer = [] \n",
        "    date, time, author = None, None, None\n",
        "    while True:\n",
        "        line = fp.readline()\n",
        "        if not line: \n",
        "            break \n",
        "        line = line.strip()\n",
        "        if startsWithDateAndTime(line): \n",
        "            if len(messageBuffer) > 0: \n",
        "                parsedData.append([date, time, author, ' '.join(messageBuffer)]) \n",
        "            messageBuffer.clear() \n",
        "            date, time, author, message = getDataPoint(line) \n",
        "            messageBuffer.append(message) \n",
        "        else:\n",
        "          line= (line.encode('ascii', 'ignore')).decode(\"utf-8\")\n",
        "          if startsWithDateAndTime(line): \n",
        "            if len(messageBuffer) > 0: \n",
        "                parsedData.append([date, time, author, ' '.join(messageBuffer)]) \n",
        "            messageBuffer.clear() \n",
        "            date, time, author, message = getDataPoint(line) \n",
        "            messageBuffer.append(message) \n",
        "          else:\n",
        "            messageBuffer.append(line)"
      ],
      "execution_count": null,
      "outputs": []
    },
    {
      "cell_type": "code",
      "metadata": {
        "id": "kjORjxuQ_hKG",
        "colab_type": "code",
        "colab": {}
      },
      "source": [
        "import datetime\n",
        "def dateconv(date):\n",
        "  year=''\n",
        "  if '-' in date:\n",
        "    year = date.split('-')[2]\n",
        "    if len(year) == 4:\n",
        "      return datetime.datetime.strptime(date, \"[%d-%m-%Y\").strftime(\"%Y-%m-%d\")\n",
        "    elif len(year) ==2:\n",
        "      return datetime.datetime.strptime(date, \"[%d-%m-%y\").strftime(\"%Y-%m-%d\")\n",
        "  elif '/' in date:\n",
        "    year = date.split('/')[2]\n",
        "    if len(year) == 4:\n",
        "      return datetime.datetime.strptime(date, \"[%d/%m/%Y\").strftime(\"%Y-%m-%d\")\n",
        "    if len(year) ==2:\n",
        "      return datetime.datetime.strptime(date, \"[%d/%m/%y\").strftime(\"%Y-%m-%d\")\n",
        "df = pd.DataFrame(parsedData, columns=['Date', 'Time', 'Author', 'Message']) # Initialising a pandas Dataframe.\n",
        "df[\"Date\"] = df[\"Date\"].apply(dateconv)\n",
        "df[\"Date\"] = pd.to_datetime(df[\"Date\"])\n",
        "df['Time'] = (pd.to_datetime(df[\"Time\"].str.strip())).dt.time"
      ],
      "execution_count": null,
      "outputs": []
    },
    {
      "cell_type": "code",
      "metadata": {
        "id": "bsszdxp2EMre",
        "colab_type": "code",
        "colab": {
          "base_uri": "https://localhost:8080/",
          "height": 424
        },
        "outputId": "16b1d3c3-603f-41e3-8fe0-4fea9076bd45"
      },
      "source": [
        "df"
      ],
      "execution_count": null,
      "outputs": [
        {
          "output_type": "execute_result",
          "data": {
            "text/html": [
              "<div>\n",
              "<style scoped>\n",
              "    .dataframe tbody tr th:only-of-type {\n",
              "        vertical-align: middle;\n",
              "    }\n",
              "\n",
              "    .dataframe tbody tr th {\n",
              "        vertical-align: top;\n",
              "    }\n",
              "\n",
              "    .dataframe thead th {\n",
              "        text-align: right;\n",
              "    }\n",
              "</style>\n",
              "<table border=\"1\" class=\"dataframe\">\n",
              "  <thead>\n",
              "    <tr style=\"text-align: right;\">\n",
              "      <th></th>\n",
              "      <th>Date</th>\n",
              "      <th>Time</th>\n",
              "      <th>Author</th>\n",
              "      <th>Message</th>\n",
              "    </tr>\n",
              "  </thead>\n",
              "  <tbody>\n",
              "    <tr>\n",
              "      <th>0</th>\n",
              "      <td>2020-02-12</td>\n",
              "      <td>18:28:05</td>\n",
              "      <td>Bj</td>\n",
              "      <td>image omitted</td>\n",
              "    </tr>\n",
              "    <tr>\n",
              "      <th>1</th>\n",
              "      <td>2020-02-12</td>\n",
              "      <td>18:28:13</td>\n",
              "      <td>Bj</td>\n",
              "      <td>Thoughts guys??</td>\n",
              "    </tr>\n",
              "    <tr>\n",
              "      <th>2</th>\n",
              "      <td>2020-02-12</td>\n",
              "      <td>18:28:21</td>\n",
              "      <td>Bj</td>\n",
              "      <td>Together as a team</td>\n",
              "    </tr>\n",
              "    <tr>\n",
              "      <th>3</th>\n",
              "      <td>2020-02-12</td>\n",
              "      <td>18:28:57</td>\n",
              "      <td>Labs</td>\n",
              "      <td>Ok</td>\n",
              "    </tr>\n",
              "    <tr>\n",
              "      <th>4</th>\n",
              "      <td>2020-02-12</td>\n",
              "      <td>18:29:07</td>\n",
              "      <td>Bj</td>\n",
              "      <td>Cool</td>\n",
              "    </tr>\n",
              "    <tr>\n",
              "      <th>...</th>\n",
              "      <td>...</td>\n",
              "      <td>...</td>\n",
              "      <td>...</td>\n",
              "      <td>...</td>\n",
              "    </tr>\n",
              "    <tr>\n",
              "      <th>6472</th>\n",
              "      <td>2020-08-21</td>\n",
              "      <td>11:26:26</td>\n",
              "      <td>Bj</td>\n",
              "      <td>sure</td>\n",
              "    </tr>\n",
              "    <tr>\n",
              "      <th>6473</th>\n",
              "      <td>2020-08-21</td>\n",
              "      <td>11:26:30</td>\n",
              "      <td>Labs</td>\n",
              "      <td>how you go do ham</td>\n",
              "    </tr>\n",
              "    <tr>\n",
              "      <th>6474</th>\n",
              "      <td>2020-08-21</td>\n",
              "      <td>11:27:14</td>\n",
              "      <td>Bj</td>\n",
              "      <td>i no know how edey on ios but check the 3 dots at the top right corner</td>\n",
              "    </tr>\n",
              "    <tr>\n",
              "      <th>6475</th>\n",
              "      <td>2020-08-21</td>\n",
              "      <td>11:41:02</td>\n",
              "      <td>Labs</td>\n",
              "      <td>adey use web</td>\n",
              "    </tr>\n",
              "    <tr>\n",
              "      <th>6476</th>\n",
              "      <td>2020-08-21</td>\n",
              "      <td>11:41:46</td>\n",
              "      <td>Bj</td>\n",
              "      <td>oh then you no gi fit</td>\n",
              "    </tr>\n",
              "  </tbody>\n",
              "</table>\n",
              "<p>6477 rows × 4 columns</p>\n",
              "</div>"
            ],
            "text/plain": [
              "           Date      Time Author  \\\n",
              "0    2020-02-12  18:28:05     Bj   \n",
              "1    2020-02-12  18:28:13     Bj   \n",
              "2    2020-02-12  18:28:21     Bj   \n",
              "3    2020-02-12  18:28:57   Labs   \n",
              "4    2020-02-12  18:29:07     Bj   \n",
              "...         ...       ...    ...   \n",
              "6472 2020-08-21  11:26:26     Bj   \n",
              "6473 2020-08-21  11:26:30   Labs   \n",
              "6474 2020-08-21  11:27:14     Bj   \n",
              "6475 2020-08-21  11:41:02   Labs   \n",
              "6476 2020-08-21  11:41:46     Bj   \n",
              "\n",
              "                                                                     Message  \n",
              "0                                                              image omitted  \n",
              "1                                                            Thoughts guys??  \n",
              "2                                                         Together as a team  \n",
              "3                                                                         Ok  \n",
              "4                                                                       Cool  \n",
              "...                                                                      ...  \n",
              "6472                                                                    sure  \n",
              "6473                                                       how you go do ham  \n",
              "6474  i no know how edey on ios but check the 3 dots at the top right corner  \n",
              "6475                                                            adey use web  \n",
              "6476                                                   oh then you no gi fit  \n",
              "\n",
              "[6477 rows x 4 columns]"
            ]
          },
          "metadata": {
            "tags": []
          },
          "execution_count": 95
        }
      ]
    },
    {
      "cell_type": "code",
      "metadata": {
        "id": "AMNchnS6ENnk",
        "colab_type": "code",
        "colab": {}
      },
      "source": [
        "# a. Chat\n",
        "df = df[~df[\"Author\"].isnull()].reset_index(drop=True)\n",
        "# b. Activities (Subject change, group icon change, left, added)\n",
        "activity_df = df[df[\"Author\"].isnull()]"
      ],
      "execution_count": null,
      "outputs": []
    },
    {
      "cell_type": "code",
      "metadata": {
        "id": "c2xQqMpGEX3N",
        "colab_type": "code",
        "colab": {
          "base_uri": "https://localhost:8080/",
          "height": 424
        },
        "outputId": "50225736-7a8e-472f-d6a8-0131aa1321bf"
      },
      "source": [
        "df"
      ],
      "execution_count": null,
      "outputs": [
        {
          "output_type": "execute_result",
          "data": {
            "text/html": [
              "<div>\n",
              "<style scoped>\n",
              "    .dataframe tbody tr th:only-of-type {\n",
              "        vertical-align: middle;\n",
              "    }\n",
              "\n",
              "    .dataframe tbody tr th {\n",
              "        vertical-align: top;\n",
              "    }\n",
              "\n",
              "    .dataframe thead th {\n",
              "        text-align: right;\n",
              "    }\n",
              "</style>\n",
              "<table border=\"1\" class=\"dataframe\">\n",
              "  <thead>\n",
              "    <tr style=\"text-align: right;\">\n",
              "      <th></th>\n",
              "      <th>Date</th>\n",
              "      <th>Time</th>\n",
              "      <th>Author</th>\n",
              "      <th>Message</th>\n",
              "    </tr>\n",
              "  </thead>\n",
              "  <tbody>\n",
              "    <tr>\n",
              "      <th>0</th>\n",
              "      <td>2020-02-12</td>\n",
              "      <td>18:28:05</td>\n",
              "      <td>Bj</td>\n",
              "      <td>image omitted</td>\n",
              "    </tr>\n",
              "    <tr>\n",
              "      <th>1</th>\n",
              "      <td>2020-02-12</td>\n",
              "      <td>18:28:13</td>\n",
              "      <td>Bj</td>\n",
              "      <td>Thoughts guys??</td>\n",
              "    </tr>\n",
              "    <tr>\n",
              "      <th>2</th>\n",
              "      <td>2020-02-12</td>\n",
              "      <td>18:28:21</td>\n",
              "      <td>Bj</td>\n",
              "      <td>Together as a team</td>\n",
              "    </tr>\n",
              "    <tr>\n",
              "      <th>3</th>\n",
              "      <td>2020-02-12</td>\n",
              "      <td>18:28:57</td>\n",
              "      <td>Labs</td>\n",
              "      <td>Ok</td>\n",
              "    </tr>\n",
              "    <tr>\n",
              "      <th>4</th>\n",
              "      <td>2020-02-12</td>\n",
              "      <td>18:29:07</td>\n",
              "      <td>Bj</td>\n",
              "      <td>Cool</td>\n",
              "    </tr>\n",
              "    <tr>\n",
              "      <th>...</th>\n",
              "      <td>...</td>\n",
              "      <td>...</td>\n",
              "      <td>...</td>\n",
              "      <td>...</td>\n",
              "    </tr>\n",
              "    <tr>\n",
              "      <th>6470</th>\n",
              "      <td>2020-08-21</td>\n",
              "      <td>11:26:26</td>\n",
              "      <td>Bj</td>\n",
              "      <td>sure</td>\n",
              "    </tr>\n",
              "    <tr>\n",
              "      <th>6471</th>\n",
              "      <td>2020-08-21</td>\n",
              "      <td>11:26:30</td>\n",
              "      <td>Labs</td>\n",
              "      <td>how you go do ham</td>\n",
              "    </tr>\n",
              "    <tr>\n",
              "      <th>6472</th>\n",
              "      <td>2020-08-21</td>\n",
              "      <td>11:27:14</td>\n",
              "      <td>Bj</td>\n",
              "      <td>i no know how edey on ios but check the 3 dots at the top right corner</td>\n",
              "    </tr>\n",
              "    <tr>\n",
              "      <th>6473</th>\n",
              "      <td>2020-08-21</td>\n",
              "      <td>11:41:02</td>\n",
              "      <td>Labs</td>\n",
              "      <td>adey use web</td>\n",
              "    </tr>\n",
              "    <tr>\n",
              "      <th>6474</th>\n",
              "      <td>2020-08-21</td>\n",
              "      <td>11:41:46</td>\n",
              "      <td>Bj</td>\n",
              "      <td>oh then you no gi fit</td>\n",
              "    </tr>\n",
              "  </tbody>\n",
              "</table>\n",
              "<p>6475 rows × 4 columns</p>\n",
              "</div>"
            ],
            "text/plain": [
              "           Date      Time Author  \\\n",
              "0    2020-02-12  18:28:05     Bj   \n",
              "1    2020-02-12  18:28:13     Bj   \n",
              "2    2020-02-12  18:28:21     Bj   \n",
              "3    2020-02-12  18:28:57   Labs   \n",
              "4    2020-02-12  18:29:07     Bj   \n",
              "...         ...       ...    ...   \n",
              "6470 2020-08-21  11:26:26     Bj   \n",
              "6471 2020-08-21  11:26:30   Labs   \n",
              "6472 2020-08-21  11:27:14     Bj   \n",
              "6473 2020-08-21  11:41:02   Labs   \n",
              "6474 2020-08-21  11:41:46     Bj   \n",
              "\n",
              "                                                                     Message  \n",
              "0                                                              image omitted  \n",
              "1                                                            Thoughts guys??  \n",
              "2                                                         Together as a team  \n",
              "3                                                                         Ok  \n",
              "4                                                                       Cool  \n",
              "...                                                                      ...  \n",
              "6470                                                                    sure  \n",
              "6471                                                       how you go do ham  \n",
              "6472  i no know how edey on ios but check the 3 dots at the top right corner  \n",
              "6473                                                            adey use web  \n",
              "6474                                                   oh then you no gi fit  \n",
              "\n",
              "[6475 rows x 4 columns]"
            ]
          },
          "metadata": {
            "tags": []
          },
          "execution_count": 97
        }
      ]
    },
    {
      "cell_type": "code",
      "metadata": {
        "id": "Orx3p0xdEtyq",
        "colab_type": "code",
        "colab": {
          "base_uri": "https://localhost:8080/",
          "height": 109
        },
        "outputId": "d4a2a4f0-4f4c-4994-a6bc-5151f0a4dabe"
      },
      "source": [
        "total_messages = df.shape[0]\n",
        "number_of_days = (df[\"Date\"].max() - df[\"Date\"].min()).days + 1\n",
        "\n",
        "print (\"{:<32}: {}\".format(\"Group formed\", df[\"Date\"].min().date()))\n",
        "print (\"{:<32}: {}\".format(\"Total Authors\", df[\"Author\"].nunique()))\n",
        "print (\"{:<32}: {}\".format(\"Total messages\", total_messages))\n",
        "print (\"{:<32}: {}\".format(\"Number of days\", number_of_days))\n",
        "print (\"{:<32}: {}\".format(\"Avg. messages sent every day\", round(total_messages/number_of_days, 2)))"
      ],
      "execution_count": null,
      "outputs": [
        {
          "output_type": "stream",
          "text": [
            "Group formed                    : 2020-02-12\n",
            "Total Authors                   : 4\n",
            "Total messages                  : 6475\n",
            "Number of days                  : 192\n",
            "Avg. messages sent every day    : 33.72\n"
          ],
          "name": "stdout"
        }
      ]
    },
    {
      "cell_type": "code",
      "metadata": {
        "id": "kNJpHCDPE2PQ",
        "colab_type": "code",
        "colab": {}
      },
      "source": [
        "date_df = df.copy()\n",
        "\n",
        "# enriching\n",
        "## 1. year\n",
        "date_df[\"year\"] = date_df[\"Date\"].apply(lambda x: x.year)\n",
        "\n",
        "## 2. month\n",
        "date_df[\"month\"] = date_df[\"Date\"].apply(lambda x: x.strftime(\"%b\"))\n",
        "months = ['Jan', 'Feb', 'Mar', 'Apr', 'May', 'Jun', 'Jul', 'Aug', 'Sep', 'Oct', 'Nov', 'Dec']\n",
        "date_df['month'] = pd.Categorical(date_df['month'], months)\n",
        "\n",
        "## 3. day_of_week\n",
        "date_df[\"day_of_week\"] = date_df[\"Date\"].apply(lambda x: x.strftime('%a'))\n",
        "day_of_week = ['Mon', 'Tue', 'Wed', 'Thu', 'Fri', 'Sat', 'Sun']\n",
        "date_df['day_of_week'] = pd.Categorical(date_df['day_of_week'], day_of_week)"
      ],
      "execution_count": null,
      "outputs": []
    },
    {
      "cell_type": "code",
      "metadata": {
        "id": "Bdq9VTPPFT9A",
        "colab_type": "code",
        "colab": {
          "base_uri": "https://localhost:8080/",
          "height": 112
        },
        "outputId": "d7a95e33-d4d3-44f5-9c2c-91b02a2476d6"
      },
      "source": [
        "date_df.head(2)\n"
      ],
      "execution_count": null,
      "outputs": [
        {
          "output_type": "execute_result",
          "data": {
            "text/html": [
              "<div>\n",
              "<style scoped>\n",
              "    .dataframe tbody tr th:only-of-type {\n",
              "        vertical-align: middle;\n",
              "    }\n",
              "\n",
              "    .dataframe tbody tr th {\n",
              "        vertical-align: top;\n",
              "    }\n",
              "\n",
              "    .dataframe thead th {\n",
              "        text-align: right;\n",
              "    }\n",
              "</style>\n",
              "<table border=\"1\" class=\"dataframe\">\n",
              "  <thead>\n",
              "    <tr style=\"text-align: right;\">\n",
              "      <th></th>\n",
              "      <th>Date</th>\n",
              "      <th>Time</th>\n",
              "      <th>Author</th>\n",
              "      <th>Message</th>\n",
              "      <th>year</th>\n",
              "      <th>month</th>\n",
              "      <th>day_of_week</th>\n",
              "    </tr>\n",
              "  </thead>\n",
              "  <tbody>\n",
              "    <tr>\n",
              "      <th>0</th>\n",
              "      <td>2020-02-12</td>\n",
              "      <td>18:28:05</td>\n",
              "      <td>Bj</td>\n",
              "      <td>image omitted</td>\n",
              "      <td>2020</td>\n",
              "      <td>Feb</td>\n",
              "      <td>Wed</td>\n",
              "    </tr>\n",
              "    <tr>\n",
              "      <th>1</th>\n",
              "      <td>2020-02-12</td>\n",
              "      <td>18:28:13</td>\n",
              "      <td>Bj</td>\n",
              "      <td>Thoughts guys??</td>\n",
              "      <td>2020</td>\n",
              "      <td>Feb</td>\n",
              "      <td>Wed</td>\n",
              "    </tr>\n",
              "  </tbody>\n",
              "</table>\n",
              "</div>"
            ],
            "text/plain": [
              "        Date      Time Author          Message  year month day_of_week\n",
              "0 2020-02-12  18:28:05     Bj    image omitted  2020   Feb         Wed\n",
              "1 2020-02-12  18:28:13     Bj  Thoughts guys??  2020   Feb         Wed"
            ]
          },
          "metadata": {
            "tags": []
          },
          "execution_count": 100
        }
      ]
    },
    {
      "cell_type": "code",
      "metadata": {
        "id": "GOgLBLF0FWan",
        "colab_type": "code",
        "colab": {}
      },
      "source": [
        "analysis_df = date_df.groupby([\"year\", \"month\"], as_index=False, sort=[True, True])[\"Message\"].count()\n",
        "analysis_df = analysis_df[~analysis_df[\"Message\"].isnull()]\n",
        "analysis_df[\"month_year\"] = analysis_df.apply(lambda x: x[\"month\"] + \" \" + str(x[\"year\"]), axis=1)"
      ],
      "execution_count": null,
      "outputs": []
    },
    {
      "cell_type": "code",
      "metadata": {
        "id": "Vluy8LBoFcUj",
        "colab_type": "code",
        "colab": {
          "base_uri": "https://localhost:8080/",
          "height": 500
        },
        "outputId": "7ce139b1-ee1e-482c-ad91-8ce9788aa752"
      },
      "source": [
        "## plot 1\n",
        "analysis_df.set_index(\"month_year\")[\"Message\"].plot(style='.-', figsize=(8, 3), title=\"Total Messages Timeline\")\n"
      ],
      "execution_count": null,
      "outputs": [
        {
          "output_type": "execute_result",
          "data": {
            "text/plain": [
              "<matplotlib.axes._subplots.AxesSubplot at 0x7f23c7487208>"
            ]
          },
          "metadata": {
            "tags": []
          },
          "execution_count": 102
        },
        {
          "output_type": "display_data",
          "data": {
            "image/png": "[encoded data removed]",
            "text/plain": [
              "<Figure size 1200x450 with 1 Axes>"
            ]
          },
          "metadata": {
            "tags": []
          }
        }
      ]
    },
    {
      "cell_type": "code",
      "metadata": {
        "id": "ShYp1c3hFfym",
        "colab_type": "code",
        "colab": {
          "base_uri": "https://localhost:8080/",
          "height": 418
        },
        "outputId": "67c27562-b6f9-469d-aa7b-e0ebfc8ec374"
      },
      "source": [
        "## plot 2\n",
        "analysis_df.groupby(\"year\")[\"Message\"].sum().plot(kind='bar', figsize=(4, 2), title=\"Total Messages by Year\")\n",
        "\n"
      ],
      "execution_count": null,
      "outputs": [
        {
          "output_type": "execute_result",
          "data": {
            "text/plain": [
              "<matplotlib.axes._subplots.AxesSubplot at 0x7f23c7093d68>"
            ]
          },
          "metadata": {
            "tags": []
          },
          "execution_count": 103
        },
        {
          "output_type": "display_data",
          "data": {
            "image/png": "[encoded data removed]",
            "text/plain": [
              "<Figure size 600x300 with 1 Axes>"
            ]
          },
          "metadata": {
            "tags": []
          }
        }
      ]
    },
    {
      "cell_type": "code",
      "metadata": {
        "id": "_GjpQ_9vT6RV",
        "colab_type": "code",
        "colab": {
          "base_uri": "https://localhost:8080/",
          "height": 412
        },
        "outputId": "31e50039-eb32-4af5-a8b2-ad40267335ab"
      },
      "source": [
        "## plot 3\n",
        "date_df.groupby('day_of_week', sort=[True])[\"Message\"].count().plot(kind='bar', figsize=(4, 2), title=\"Total Messages by Day of Week\")\n"
      ],
      "execution_count": null,
      "outputs": [
        {
          "output_type": "execute_result",
          "data": {
            "text/plain": [
              "<matplotlib.axes._subplots.AxesSubplot at 0x7f23c705d978>"
            ]
          },
          "metadata": {
            "tags": []
          },
          "execution_count": 104
        },
        {
          "output_type": "display_data",
          "data": {
            "image/png": "[encoded data removed]",
            "text/plain": [
              "<Figure size 600x300 with 1 Axes>"
            ]
          },
          "metadata": {
            "tags": []
          }
        }
      ]
    },
    {
      "cell_type": "code",
      "metadata": {
        "id": "PWahS638WUXu",
        "colab_type": "code",
        "colab": {
          "base_uri": "https://localhost:8080/",
          "height": 435
        },
        "outputId": "9b45856b-718f-45ba-d410-bc679e96cf16"
      },
      "source": [
        "time_df = df.copy()\n",
        "   \n",
        "  \n",
        "\n",
        "# enriching\n",
        "# 1. hour\n",
        "time_df[\"hour\"] = time_df[\"Time\"].apply(lambda x: x.hour)\n",
        "\n",
        "# 2. day_of_week\n",
        "time_df[\"day_of_week\"] = time_df[\"Date\"].apply(lambda x: x.strftime('%a'))\n",
        "day_of_week = ['Mon', 'Tue', 'Wed', 'Thu', 'Fri', 'Sat', 'Sun']\n",
        "time_df['day_of_week'] = pd.Categorical(time_df['day_of_week'], day_of_week)\n",
        "\n",
        "\n",
        "# 3. part_of_day\n",
        "time_df[\"part_of_day\"] = time_df[\"hour\"].apply(lambda x: part_of_day(x))\n",
        "# time_df[\"part_of_day\"]\n",
        "\n",
        "\n",
        "\n",
        "\n"
      ],
      "execution_count": null,
      "outputs": [
        {
          "output_type": "error",
          "ename": "NameError",
          "evalue": "ignored",
          "traceback": [
            "\u001b[0;31m---------------------------------------------------------------------------\u001b[0m",
            "\u001b[0;31mNameError\u001b[0m                                 Traceback (most recent call last)",
            "\u001b[0;32m<ipython-input-111-1c8d757d98c1>\u001b[0m in \u001b[0;36m<module>\u001b[0;34m()\u001b[0m\n\u001b[1;32m     14\u001b[0m \u001b[0;34m\u001b[0m\u001b[0m\n\u001b[1;32m     15\u001b[0m \u001b[0;31m# 3. part_of_day\u001b[0m\u001b[0;34m\u001b[0m\u001b[0;34m\u001b[0m\u001b[0;34m\u001b[0m\u001b[0m\n\u001b[0;32m---> 16\u001b[0;31m \u001b[0mtime_df\u001b[0m\u001b[0;34m[\u001b[0m\u001b[0;34m\"part_of_day\"\u001b[0m\u001b[0;34m]\u001b[0m \u001b[0;34m=\u001b[0m \u001b[0mtime_df\u001b[0m\u001b[0;34m[\u001b[0m\u001b[0;34m\"hour\"\u001b[0m\u001b[0;34m]\u001b[0m\u001b[0;34m.\u001b[0m\u001b[0mapply\u001b[0m\u001b[0;34m(\u001b[0m\u001b[0;32mlambda\u001b[0m \u001b[0mx\u001b[0m\u001b[0;34m:\u001b[0m \u001b[0mpart_of_day\u001b[0m\u001b[0;34m(\u001b[0m\u001b[0mx\u001b[0m\u001b[0;34m)\u001b[0m\u001b[0;34m)\u001b[0m\u001b[0;34m\u001b[0m\u001b[0;34m\u001b[0m\u001b[0m\n\u001b[0m\u001b[1;32m     17\u001b[0m \u001b[0mtime_df\u001b[0m\u001b[0;34m[\u001b[0m\u001b[0;34m\"part_of_day\"\u001b[0m\u001b[0;34m]\u001b[0m\u001b[0;34m(\u001b[0m\u001b[0;36m2\u001b[0m\u001b[0;34m)\u001b[0m\u001b[0;34m\u001b[0m\u001b[0;34m\u001b[0m\u001b[0m\n\u001b[1;32m     18\u001b[0m \u001b[0;34m\u001b[0m\u001b[0m\n",
            "\u001b[0;32m/usr/local/lib/python3.6/dist-packages/pandas/core/series.py\u001b[0m in \u001b[0;36mapply\u001b[0;34m(self, func, convert_dtype, args, **kwds)\u001b[0m\n\u001b[1;32m   3846\u001b[0m             \u001b[0;32melse\u001b[0m\u001b[0;34m:\u001b[0m\u001b[0;34m\u001b[0m\u001b[0;34m\u001b[0m\u001b[0m\n\u001b[1;32m   3847\u001b[0m                 \u001b[0mvalues\u001b[0m \u001b[0;34m=\u001b[0m \u001b[0mself\u001b[0m\u001b[0;34m.\u001b[0m\u001b[0mastype\u001b[0m\u001b[0;34m(\u001b[0m\u001b[0mobject\u001b[0m\u001b[0;34m)\u001b[0m\u001b[0;34m.\u001b[0m\u001b[0mvalues\u001b[0m\u001b[0;34m\u001b[0m\u001b[0;34m\u001b[0m\u001b[0m\n\u001b[0;32m-> 3848\u001b[0;31m                 \u001b[0mmapped\u001b[0m \u001b[0;34m=\u001b[0m \u001b[0mlib\u001b[0m\u001b[0;34m.\u001b[0m\u001b[0mmap_infer\u001b[0m\u001b[0;34m(\u001b[0m\u001b[0mvalues\u001b[0m\u001b[0;34m,\u001b[0m \u001b[0mf\u001b[0m\u001b[0;34m,\u001b[0m \u001b[0mconvert\u001b[0m\u001b[0;34m=\u001b[0m\u001b[0mconvert_dtype\u001b[0m\u001b[0;34m)\u001b[0m\u001b[0;34m\u001b[0m\u001b[0;34m\u001b[0m\u001b[0m\n\u001b[0m\u001b[1;32m   3849\u001b[0m \u001b[0;34m\u001b[0m\u001b[0m\n\u001b[1;32m   3850\u001b[0m         \u001b[0;32mif\u001b[0m \u001b[0mlen\u001b[0m\u001b[0;34m(\u001b[0m\u001b[0mmapped\u001b[0m\u001b[0;34m)\u001b[0m \u001b[0;32mand\u001b[0m \u001b[0misinstance\u001b[0m\u001b[0;34m(\u001b[0m\u001b[0mmapped\u001b[0m\u001b[0;34m[\u001b[0m\u001b[0;36m0\u001b[0m\u001b[0;34m]\u001b[0m\u001b[0;34m,\u001b[0m \u001b[0mSeries\u001b[0m\u001b[0;34m)\u001b[0m\u001b[0;34m:\u001b[0m\u001b[0;34m\u001b[0m\u001b[0;34m\u001b[0m\u001b[0m\n",
            "\u001b[0;32mpandas/_libs/lib.pyx\u001b[0m in \u001b[0;36mpandas._libs.lib.map_infer\u001b[0;34m()\u001b[0m\n",
            "\u001b[0;32m<ipython-input-111-1c8d757d98c1>\u001b[0m in \u001b[0;36m<lambda>\u001b[0;34m(x)\u001b[0m\n\u001b[1;32m     14\u001b[0m \u001b[0;34m\u001b[0m\u001b[0m\n\u001b[1;32m     15\u001b[0m \u001b[0;31m# 3. part_of_day\u001b[0m\u001b[0;34m\u001b[0m\u001b[0;34m\u001b[0m\u001b[0;34m\u001b[0m\u001b[0m\n\u001b[0;32m---> 16\u001b[0;31m \u001b[0mtime_df\u001b[0m\u001b[0;34m[\u001b[0m\u001b[0;34m\"part_of_day\"\u001b[0m\u001b[0;34m]\u001b[0m \u001b[0;34m=\u001b[0m \u001b[0mtime_df\u001b[0m\u001b[0;34m[\u001b[0m\u001b[0;34m\"hour\"\u001b[0m\u001b[0;34m]\u001b[0m\u001b[0;34m.\u001b[0m\u001b[0mapply\u001b[0m\u001b[0;34m(\u001b[0m\u001b[0;32mlambda\u001b[0m \u001b[0mx\u001b[0m\u001b[0;34m:\u001b[0m \u001b[0mpart_of_day\u001b[0m\u001b[0;34m(\u001b[0m\u001b[0mx\u001b[0m\u001b[0;34m)\u001b[0m\u001b[0;34m)\u001b[0m\u001b[0;34m\u001b[0m\u001b[0;34m\u001b[0m\u001b[0m\n\u001b[0m\u001b[1;32m     17\u001b[0m \u001b[0mtime_df\u001b[0m\u001b[0;34m[\u001b[0m\u001b[0;34m\"part_of_day\"\u001b[0m\u001b[0;34m]\u001b[0m\u001b[0;34m(\u001b[0m\u001b[0;36m2\u001b[0m\u001b[0;34m)\u001b[0m\u001b[0;34m\u001b[0m\u001b[0;34m\u001b[0m\u001b[0m\n\u001b[1;32m     18\u001b[0m \u001b[0;34m\u001b[0m\u001b[0m\n",
            "\u001b[0;31mNameError\u001b[0m: name 'part_of_day' is not defined"
          ]
        }
      ]
    },
    {
      "cell_type": "code",
      "metadata": {
        "id": "2M0w9boIsyOx",
        "colab_type": "code",
        "colab": {}
      },
      "source": [
        ""
      ],
      "execution_count": null,
      "outputs": []
    }
  ]
}